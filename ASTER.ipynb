{
 "cells": [
  {
   "cell_type": "code",
   "execution_count": 2,
   "metadata": {},
   "outputs": [],
   "source": [
    "import gdal \n",
    "import matplotlib.pyplot as plt\n",
    "import numpy as np"
   ]
  },
  {
   "cell_type": "code",
   "execution_count": 3,
   "metadata": {},
   "outputs": [],
   "source": [
    "aster = gdal.Open(\"G:/Python_Learning/Python_RS/Image_Copy/Image/ASTER/AST_L1T_00311232019070908_20191124093721_23825.hdf\")\n",
    "bands = []"
   ]
  },
  {
   "cell_type": "code",
   "execution_count": 4,
   "metadata": {},
   "outputs": [
    {
     "name": "stdout",
     "output_type": "stream",
     "text": [
      "[5041x5665] ImageData2 VNIR_Swath (8-bit unsigned integer)\n",
      "[5041x5665] ImageData1 VNIR_Swath (8-bit unsigned integer)\n",
      "[5041x5665] ImageData3N VNIR_Swath (8-bit unsigned integer)\n",
      "[841x945] ImageData10 TIR_Swath (16-bit unsigned integer)\n",
      "[841x945] ImageData11 TIR_Swath (16-bit unsigned integer)\n",
      "[841x945] ImageData12 TIR_Swath (16-bit unsigned integer)\n",
      "[841x945] ImageData13 TIR_Swath (16-bit unsigned integer)\n",
      "[841x945] ImageData14 TIR_Swath (16-bit unsigned integer)\n",
      "[11x11] Latitude (64-bit floating-point)\n",
      "[11x11] Longitude (64-bit floating-point)\n",
      "[5041x5665] ImageData2 (8-bit unsigned integer)\n",
      "[5041x5665] ImageData1 (8-bit unsigned integer)\n",
      "[5041x5665] ImageData3N (8-bit unsigned integer)\n",
      "[11x11] Latitude (64-bit floating-point)\n",
      "[11x11] Longitude (64-bit floating-point)\n",
      "[841x945] ImageData10 (16-bit unsigned integer)\n",
      "[841x945] ImageData11 (16-bit unsigned integer)\n",
      "[841x945] ImageData12 (16-bit unsigned integer)\n",
      "[841x945] ImageData13 (16-bit unsigned integer)\n",
      "[841x945] ImageData14 (16-bit unsigned integer)\n",
      "[9603x58] VNIR_Supplement (8-bit unsigned integer)\n",
      "[71x13] TIR_Supplement_Temp (32-bit unsigned integer)\n",
      "[71x100x10x8] TIR_Supplement_Chopper (8-bit unsigned integer)\n",
      "[71x935] TIR_Supplement_Encoder (16-bit unsigned integer)\n"
     ]
    }
   ],
   "source": [
    "for sd , des in aster.GetSubDatasets():\n",
    "    bands.append(sd)\n",
    "    print(des)"
   ]
  },
  {
   "cell_type": "code",
   "execution_count": 5,
   "metadata": {},
   "outputs": [],
   "source": [
    "VNIR_1= gdal.Open(bands[0]).ReadAsArray().astype(float)\n",
    "VNIR_2= gdal.Open(bands[1]).ReadAsArray().astype(float)\n",
    "VNIR_3= gdal.Open(bands[2]).ReadAsArray().astype(float)"
   ]
  },
  {
   "cell_type": "code",
   "execution_count": 5,
   "metadata": {},
   "outputs": [],
   "source": [
    "NB1= (VNIR_1-np.min(VNIR_1))/(np.max(VNIR_1)-np.min(VNIR_1))\n",
    "NB2= (VNIR_2-np.min(VNIR_2))/(np.max(VNIR_2)-np.min(VNIR_2))\n",
    "NB3= (VNIR_3-np.min(VNIR_3))/(np.max(VNIR_3)-np.min(VNIR_3))"
   ]
  },
  {
   "cell_type": "code",
   "execution_count": 6,
   "metadata": {},
   "outputs": [],
   "source": [
    "stack = np.stack([NB3,NB2,NB1],axis=2)"
   ]
  },
  {
   "cell_type": "code",
   "execution_count": null,
   "metadata": {},
   "outputs": [],
   "source": [
    "fig ,ax = plt.subplots(nrows=1, ncols=4, figsize=(25,15))\n",
    "ax[0].imshow(NB1)\n",
    "ax[0].set_title('0.52-0.60')\n",
    "ax[1].imshow(NB2)\n",
    "ax[1].set_title('0.63-0.69')\n",
    "ax[2].imshow(NB3)\n",
    "ax[2].set_title('0.76-0.86')\n",
    "ax[3].imshow(stack)\n",
    "ax[3].set_title('RGB')\n",
    "plt.show()"
   ]
  },
  {
   "cell_type": "code",
   "execution_count": null,
   "metadata": {},
   "outputs": [],
   "source": []
  }
 ],
 "metadata": {
  "kernelspec": {
   "display_name": "Python 3",
   "language": "python",
   "name": "python3"
  },
  "language_info": {
   "codemirror_mode": {
    "name": "ipython",
    "version": 3
   },
   "file_extension": ".py",
   "mimetype": "text/x-python",
   "name": "python",
   "nbconvert_exporter": "python",
   "pygments_lexer": "ipython3",
   "version": "3.7.7"
  }
 },
 "nbformat": 4,
 "nbformat_minor": 4
}
